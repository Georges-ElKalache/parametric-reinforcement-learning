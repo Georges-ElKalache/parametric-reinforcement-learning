{
 "cells": [
  {
   "cell_type": "markdown",
   "metadata": {},
   "source": [
    "# Reinforcement Learning\n",
    "\n",
    "# 7. Parametric Bandits"
   ]
  },
  {
   "cell_type": "markdown",
   "metadata": {},
   "source": [
    "The objective of this lab is to recommend contents (here movies) using **parametric bandits**. The rewards are binary (like or dislike).\n"
   ]
  },
  {
   "cell_type": "markdown",
   "metadata": {},
   "source": [
    "## Imports"
   ]
  },
  {
   "cell_type": "code",
   "execution_count": 323,
   "metadata": {},
   "outputs": [],
   "source": [
    "import numpy as np\n",
    "import pandas as pd\n",
    "import matplotlib.pyplot as plt\n",
    "from scipy.stats import spearmanr"
   ]
  },
  {
   "cell_type": "markdown",
   "metadata": {},
   "source": [
    "You will need ``ipywidgets`` to simulate the interactions with the user."
   ]
  },
  {
   "cell_type": "code",
   "execution_count": 324,
   "metadata": {},
   "outputs": [],
   "source": [
    "#!pip install ipywidgets"
   ]
  },
  {
   "cell_type": "code",
   "execution_count": 325,
   "metadata": {},
   "outputs": [],
   "source": [
    "from ipywidgets import AppLayout, Button, GridspecLayout, Image, Layout"
   ]
  },
  {
   "cell_type": "code",
   "execution_count": 326,
   "metadata": {},
   "outputs": [],
   "source": [
    "#!pip install scikit-learn"
   ]
  },
  {
   "cell_type": "code",
   "execution_count": 327,
   "metadata": {},
   "outputs": [],
   "source": [
    "from sklearn.linear_model import LogisticRegression\n",
    "from sklearn.preprocessing import MultiLabelBinarizer"
   ]
  },
  {
   "cell_type": "markdown",
   "metadata": {},
   "source": [
    "## Data"
   ]
  },
  {
   "cell_type": "markdown",
   "metadata": {},
   "source": [
    "We work on a catalogue of 1037 movies available in 2015."
   ]
  },
  {
   "cell_type": "code",
   "execution_count": 328,
   "metadata": {},
   "outputs": [],
   "source": [
    "catalogue = pd.read_pickle('movie_database.pickle')"
   ]
  },
  {
   "cell_type": "code",
   "execution_count": null,
   "metadata": {},
   "outputs": [],
   "source": [
    "len(catalogue)"
   ]
  },
  {
   "cell_type": "code",
   "execution_count": null,
   "metadata": {},
   "outputs": [],
   "source": [
    "catalogue.head()"
   ]
  },
  {
   "cell_type": "markdown",
   "metadata": {},
   "source": [
    "The features are the following:\n",
    "\n",
    "|Column|Description|Type|\n",
    "|:---|:---|:---|\n",
    "|Actors| Actors staring | list of strings|\n",
    "|Awards| Awards received| string|\n",
    "|Country| Country of origin| list of strings|\n",
    "|Director| Director(s) of the movie|  list of strings|\n",
    "|Genre| Genres (Action, ...) | list of strings|\n",
    "|Language| Language(s) spoken |list of strings|\n",
    "|Rated| Public rating (G = General, R = Restricted, ...)| list of strings|\n",
    "|Released| Date of the movie| date|\n",
    "|Title|Title of the movie|string|\n",
    "|imdbID| IMDB id| string|\n",
    "|imdbRating| IMDB rating (between 0 and 10)| float|\n",
    "|Metascore| Metacritic score (between 0 and 100)|float|\n",
    "|Box_office| Total money generated|float|\n",
    "|imdbVotes| Number of IMDB votes| float|\n",
    "|Runtime| Duration of the movie (in minutes)|float|\n",
    "|poster| Poster of the movie (jpg)| binary string|"
   ]
  },
  {
   "cell_type": "code",
   "execution_count": 331,
   "metadata": {},
   "outputs": [],
   "source": [
    "# Display the posters\n",
    "\n",
    "def get_poster(k, scale=1):\n",
    "    return Image(\n",
    "        value = catalogue.loc[k].poster,\n",
    "        format = 'jpg',\n",
    "        width = 130 * scale,\n",
    "        height = 200 * scale,\n",
    "    )\n",
    "\n",
    "def display_posters(index=None, n_col=5, n_rows=4):\n",
    "    if index is None:\n",
    "        index = np.arange(len(catalogue))\n",
    "    if len(index):\n",
    "        n_rows = min(n_rows, int(np.ceil(len(index) / n_col)))\n",
    "        grid = GridspecLayout(n_rows, n_col)\n",
    "        k = 0\n",
    "        for i in range(n_rows):\n",
    "            for j in range(n_col):\n",
    "                if k < len(index):\n",
    "                    grid[i, j] = get_poster(index[k])\n",
    "                k += 1 \n",
    "        return grid"
   ]
  },
  {
   "cell_type": "code",
   "execution_count": null,
   "metadata": {},
   "outputs": [],
   "source": [
    "display_posters()"
   ]
  },
  {
   "cell_type": "markdown",
   "metadata": {},
   "source": [
    "## Features\n",
    "\n",
    "We will describe each movie by some features, for instance its genre."
   ]
  },
  {
   "cell_type": "code",
   "execution_count": 333,
   "metadata": {},
   "outputs": [],
   "source": [
    "mlb = MultiLabelBinarizer()"
   ]
  },
  {
   "cell_type": "code",
   "execution_count": 334,
   "metadata": {},
   "outputs": [],
   "source": [
    "movies = pd.DataFrame(mlb.fit_transform(catalogue['Genre']), columns=mlb.classes_)"
   ]
  },
  {
   "cell_type": "code",
   "execution_count": null,
   "metadata": {},
   "outputs": [],
   "source": [
    "movies.head()"
   ]
  },
  {
   "cell_type": "code",
   "execution_count": null,
   "metadata": {},
   "outputs": [],
   "source": [
    "movies.columns"
   ]
  },
  {
   "cell_type": "markdown",
   "metadata": {},
   "source": [
    "## User\n",
    "\n",
    "Each user will be modeled by a vector of weights (positive or negative) on each feature. "
   ]
  },
  {
   "cell_type": "code",
   "execution_count": 337,
   "metadata": {},
   "outputs": [],
   "source": [
    "user = pd.DataFrame(0, index = [0], columns=movies.columns)\n",
    "user['Action'] = 2\n",
    "user['Crime'] = 1\n",
    "user['Sci-Fi'] = -2"
   ]
  },
  {
   "cell_type": "markdown",
   "metadata": {},
   "source": [
    "## To do\n",
    "\n",
    "* Display the favorite movies of this user. \n",
    "* Test another user, and quantify their similarity (e.g., proportion of common top-100 movies)."
   ]
  },
  {
   "cell_type": "code",
   "execution_count": 338,
   "metadata": {},
   "outputs": [],
   "source": [
    "def get_top_5_movies(user, movies, catalogue):\n",
    "    movies_array = movies.iloc[:,:-1]\n",
    "    user_vector = user.iloc[0,:-1].values\n",
    "\n",
    "    dot_products = np.dot(movies_array, user_vector)\n",
    "    top_5_indices = dot_products.argsort()[-5:][::-1]\n",
    "    return top_5_indices"
   ]
  },
  {
   "cell_type": "code",
   "execution_count": null,
   "metadata": {},
   "outputs": [],
   "source": [
    "display_posters(get_top_5_movies(user, movies, catalogue))"
   ]
  },
  {
   "cell_type": "code",
   "execution_count": null,
   "metadata": {},
   "outputs": [],
   "source": [
    "user2 = pd.DataFrame(0, index = [0], columns=movies.columns)\n",
    "user2['Action'] = 1\n",
    "user2['Crime'] = 1\n",
    "user2['Sci-Fi'] = 1\n",
    "user2['Adventure'] = 1\n",
    "\n",
    "display_posters(get_top_5_movies(user2, movies, catalogue))"
   ]
  },
  {
   "cell_type": "markdown",
   "metadata": {},
   "source": [
    "## Offline learning\n",
    "\n",
    "We start with offline learning. There are 2 steps: \n",
    "1. Collect the user's opinion on a few movies (e.g., 10)\n",
    "2. Rank the other movies by logistic regression.\n",
    "\n",
    "Let's test that."
   ]
  },
  {
   "cell_type": "code",
   "execution_count": 341,
   "metadata": {},
   "outputs": [],
   "source": [
    "# Add a column to record the user's opinion (like / dislike)\n",
    "movies = movies.assign(like=None)"
   ]
  },
  {
   "cell_type": "code",
   "execution_count": 342,
   "metadata": {},
   "outputs": [],
   "source": [
    "# Select a random movie (not yet seen by the user)\n",
    "    \n",
    "def select_random_movie():\n",
    "    index = np.flatnonzero(movies.like.isna())\n",
    "    if len(index):\n",
    "        return np.random.choice(index)\n",
    "    else:\n",
    "        return np.random.choice(len(movies))"
   ]
  },
  {
   "cell_type": "code",
   "execution_count": 343,
   "metadata": {},
   "outputs": [],
   "source": [
    "# Create buttons\n",
    "\n",
    "def create_expanded_button(description, button_style):\n",
    "    return Button(\n",
    "        description=description,\n",
    "        button_style=button_style,\n",
    "        layout=Layout())\n",
    "\n",
    "def update_likes(button):\n",
    "    global movie_id\n",
    "    movies.loc[movie_id, 'like'] = button.description == 'like'\n",
    "    \n",
    "def update_poster():\n",
    "    global movie_id\n",
    "    img.value = catalogue.loc[movie_id].poster\n",
    "    \n",
    "def on_button_clicked(button):\n",
    "    global movie_id\n",
    "    update_likes(button)\n",
    "    movie_id = select_random_movie()\n",
    "    update_poster()    "
   ]
  },
  {
   "cell_type": "code",
   "execution_count": null,
   "metadata": {
    "scrolled": true
   },
   "outputs": [],
   "source": [
    "left_button = create_expanded_button('like', 'success')\n",
    "right_button = create_expanded_button('dislike', 'danger')\n",
    "left_button.on_click(on_button_clicked)\n",
    "right_button.on_click(on_button_clicked)\n",
    "\n",
    "# Setting the movie poster\n",
    "movie_id = select_random_movie()\n",
    "img = get_poster(movie_id, scale=1.5)\n",
    "\n",
    "# Display\n",
    "AppLayout(\n",
    "    left_sidebar=left_button,\n",
    "    right_sidebar=right_button, \n",
    "    center=img,\n",
    "    pane_widths=[0.3, 0.4, 0.3]\n",
    ")\n",
    "\n",
    "# Display the first movie\n",
    "display(AppLayout(\n",
    "    left_sidebar=left_button,\n",
    "    right_sidebar=right_button, \n",
    "    center=img,\n",
    "    pane_widths=[0.3, 0.4, 0.3]\n",
    "))"
   ]
  },
  {
   "cell_type": "markdown",
   "metadata": {},
   "source": [
    "## To do\n",
    "\n",
    "* Give your opinion on some movies (e.g., 10), making sure that you get a few likes and a few dislikes.\n",
    "* Apply logistic regression and display the other movies in order of preference (top movies first).\n",
    "* Give your top-3 and bottom-3 genres, as predicted by the model."
   ]
  },
  {
   "cell_type": "code",
   "execution_count": 345,
   "metadata": {},
   "outputs": [],
   "source": [
    "# likes\n",
    "likes = np.flatnonzero(movies.like==True)\n",
    "display_posters(likes)"
   ]
  },
  {
   "cell_type": "code",
   "execution_count": 346,
   "metadata": {},
   "outputs": [],
   "source": [
    "# dislikes\n",
    "dislikes = np.flatnonzero(movies.like==False)\n",
    "display_posters(dislikes)"
   ]
  },
  {
   "cell_type": "code",
   "execution_count": 347,
   "metadata": {},
   "outputs": [],
   "source": [
    "liked_indexes = [0, 19, 183, 204, 250, 313, 332, 388, 443, 574, 575, \n",
    "610, 685, 695, 730, 748, 781, 784, 811, 813, 846, \n",
    "867, 908, 941, 1013, 1017, 16, 17, 44, 2, 39, 42, \n",
    "37, 7, 22, 32, 20, 45, 46, 31, 3, 18, 10, 12, \n",
    "50, 28, 6, 41, 21]\n",
    "for index in liked_indexes:\n",
    "    movies.at[index, 'like'] = True\n",
    "\n",
    "\n",
    "disliked_indexes = [9, 25, 205, 249, 255, 456, 518, 567, 711, 771, \n",
    "792, 801, 901, 904, 991, 1036, 11, 14, 27, 13, \n",
    "34, 8, 48, 49, 5, 1, 15, 24, 43, 23, 30, 38, \n",
    "33, 47, 26, 36, 4, 40, 35, 29]\n",
    "for index in disliked_indexes:\n",
    "    movies.at[index, 'like'] = False"
   ]
  },
  {
   "cell_type": "code",
   "execution_count": null,
   "metadata": {},
   "outputs": [],
   "source": [
    "movies_labeled = movies.dropna(subset=['like'])\n",
    "\n",
    "X_train = movies_labeled.drop(columns=['like'])\n",
    "y_train = movies_labeled['like'].astype(int)\n",
    "\n",
    "model = LogisticRegression()\n",
    "model.fit(X_train, y_train)\n",
    "\n",
    "X_test = movies.drop(columns=['like'])  \n",
    "probabilities = model.predict_proba(X_test)[:, 1]\n",
    "\n",
    "top_5_indices = probabilities.argsort()[-5:][::-1]\n",
    "\n",
    "display_posters(top_5_indices)"
   ]
  },
  {
   "cell_type": "code",
   "execution_count": null,
   "metadata": {},
   "outputs": [],
   "source": [
    "genre_like_ratios = (\n",
    "    movies_labeled.drop(columns=['like']).multiply(movies_labeled['like'], axis=0).sum()\n",
    ")\n",
    "\n",
    "genre_like_ratios = genre_like_ratios.sort_values(ascending=True)\n",
    "\n",
    "top_3_genres = genre_like_ratios.tail(3) \n",
    "top_3_genres = top_3_genres[::-1]\n",
    "bottom_3_genres = genre_like_ratios.head(3) \n",
    "\n",
    "print(\"Top 3 Favorite Genres:\")\n",
    "print(top_3_genres)\n",
    "\n",
    "print(\"\\n3 Least Favorite Genres:\")\n",
    "print(bottom_3_genres)\n",
    "\n",
    "plt.figure(figsize=(12, 6))\n",
    "plt.bar(top_3_genres.index, top_3_genres.values, color='green', label='Top 3 Genres')\n",
    "plt.bar(bottom_3_genres.index, bottom_3_genres.values, color='red', label='Least Favorite Genres')\n",
    "\n",
    "plt.title(\"Top 3 Favorite and Least Favorite Genres\", fontsize=16)\n",
    "plt.ylabel(\"Like Ratio\", fontsize=12)\n",
    "plt.xlabel(\"Genres\", fontsize=12)\n",
    "plt.xticks(rotation=45)\n",
    "plt.legend()\n",
    "plt.tight_layout()\n",
    "plt.show()"
   ]
  },
  {
   "cell_type": "markdown",
   "metadata": {},
   "source": [
    "## Online learning"
   ]
  },
  {
   "cell_type": "markdown",
   "metadata": {},
   "source": [
    "We now learn the user preferences online, as they come. For that, we use a Bayesian algorithm inspired by Thompson sampling. \n",
    "\n",
    "On each feedback provided by the user:\n",
    "1. (Learning) The parameter (vector of weights) is learned.\n",
    "2. (Sampling) A new parameter is sampled, assuming a Gaussian distribution.\n",
    "3. (Action) The top movie for this new parameter, among movies not yet seen by the user, is proposed. \n",
    "\n",
    "Note that:\n",
    "* In step 1, we retrain the estimator **from scratch**, using logistic regression on all training data samples (**no** online estimation).\n",
    "* In step 2, we discard correlations (**diagonal** covariance matrix)."
   ]
  },
  {
   "cell_type": "markdown",
   "metadata": {},
   "source": [
    "## To do\n",
    "\n",
    "* Complete the function ``select_bayes`` below.\n",
    "* Test it on some movies (e.g., 10), until you get a few likes and a few dislikes.\n",
    "* Display the other movies in order of preference (top movies first)."
   ]
  },
  {
   "cell_type": "code",
   "execution_count": 350,
   "metadata": {},
   "outputs": [],
   "source": [
    "def select_bayes():\n",
    "    global mean_weights\n",
    "    if set(movies.like) == {True, False, None}:\n",
    "        labeled_movies = movies[movies.like.notna()]\n",
    "        X_train = labeled_movies.drop('like', axis=1)\n",
    "        y_train = labeled_movies['like'].astype(int)\n",
    "\n",
    "        model = LogisticRegression(fit_intercept=False)\n",
    "        model.fit(X_train, y_train)\n",
    "\n",
    "        mean_weights = model.coef_[0]\n",
    "        std_dev = 1.0\n",
    "        sampled_weights = np.random.normal(mean_weights, std_dev)\n",
    "\n",
    "        unseen_movies = movies[movies.like.isna()]\n",
    "        X_test = unseen_movies.drop('like', axis=1)\n",
    "        scores = X_test.dot(sampled_weights)\n",
    "\n",
    "        top_movie_index = scores.idxmax()\n",
    "        return top_movie_index\n",
    "\n",
    "    else:\n",
    "        return select_random_movie()"
   ]
  },
  {
   "cell_type": "code",
   "execution_count": 351,
   "metadata": {},
   "outputs": [],
   "source": [
    "# reset\n",
    "movies = movies.assign(like=None)"
   ]
  },
  {
   "cell_type": "code",
   "execution_count": 352,
   "metadata": {},
   "outputs": [],
   "source": [
    "liked_indexes = [0, 19, 183, 204, 250, 313, 332, 388, 443, 574, 575, \n",
    "610, 685, 695, 730, 748, 781, 784, 811, 813, 846, \n",
    "867, 908, 941, 1013, 1017, 16, 17, 44, 2, 39, 42, \n",
    "37, 7, 22, 32, 20, 45, 46, 31, 3, 18, 10, 12, \n",
    "50, 28, 6, 41, 21]\n",
    "for index in liked_indexes:\n",
    "    movies.at[index, 'like'] = True\n",
    "\n",
    "\n",
    "disliked_indexes = [9, 25, 205, 249, 255, 456, 518, 567, 711, 771, \n",
    "792, 801, 901, 904, 991, 1036, 11, 14, 27, 13, \n",
    "34, 8, 48, 49, 5, 1, 15, 24, 43, 23, 30, 38, \n",
    "33, 47, 26, 36, 4, 40, 35, 29]\n",
    "for index in disliked_indexes:\n",
    "    movies.at[index, 'like'] = False"
   ]
  },
  {
   "cell_type": "code",
   "execution_count": 353,
   "metadata": {},
   "outputs": [],
   "source": [
    "def on_button_clicked(button):\n",
    "    global movie_id\n",
    "    update_likes(button)\n",
    "    movie_id = select_bayes()\n",
    "    update_poster()"
   ]
  },
  {
   "cell_type": "code",
   "execution_count": null,
   "metadata": {},
   "outputs": [],
   "source": [
    "# Setting the buttons\n",
    "left_button = create_expanded_button('like', 'success')\n",
    "right_button = create_expanded_button('dislike', 'danger')\n",
    "left_button.on_click(on_button_clicked)\n",
    "right_button.on_click(on_button_clicked)\n",
    "\n",
    "# Setting the movie poster\n",
    "movie_id = select_random_movie()\n",
    "img = get_poster(movie_id, scale=1.5)\n",
    "\n",
    "# Display\n",
    "AppLayout(\n",
    "    left_sidebar=left_button,\n",
    "    right_sidebar=right_button,\n",
    "    center=img,\n",
    "    pane_widths=[0.3, 0.4, 0.3]\n",
    ")"
   ]
  },
  {
   "cell_type": "code",
   "execution_count": null,
   "metadata": {},
   "outputs": [],
   "source": [
    "# Rank remaining movies by predicted scores\n",
    "def rank_remaining_movies():\n",
    "    unseen_movies = movies[movies.like.isna()]\n",
    "    X_test = unseen_movies.drop('like', axis=1)\n",
    "    scores = X_test.dot(mean_weights)\n",
    "    ranked_movies = catalogue.loc[movies.like.isna()].copy()\n",
    "    ranked_movies['Predicted Score'] = scores\n",
    "    ranked_movies = ranked_movies.sort_values(by='Predicted Score', ascending=False)\n",
    "    print(\"Top 10 Movies by Predicted Score:\")\n",
    "    print(ranked_movies[['Title', 'Predicted Score']].head(10))\n",
    "    top_indices = ranked_movies.index[:10]\n",
    "    display_posters(top_indices)\n",
    "rank_remaining_movies()"
   ]
  },
  {
   "cell_type": "markdown",
   "metadata": {},
   "source": [
    "## Analysis\n",
    "\n",
    "Finally, we would like to assess the quality of our bandit algorithm.\n",
    "\n",
    "## To do\n",
    "\n",
    "* Choose a user, that is a parameter $\\theta$ (vector of weights).\n",
    "* Provide the answers of this user to the movies proposed by the algorithm, assuming binary rewards, with mean\n",
    "$$\n",
    "q(a) = \\frac 1 {1 + e^{-\\theta^T a}}\n",
    "$$\n",
    "where $a$ is the action (= movie proposed by the algorithm).\n",
    "* Make sure that a reasonable fraction of movies are liked (e.g., between 10\\% and 90\\%). Otherwise, update $\\theta$.\n",
    "* Simulate an interaction of this user with the recommender system over 100 movies.\n",
    "* Compute the [Spearman's correlation coefficient](https://en.wikipedia.org/wiki/Spearman%27s_rank_correlation_coefficient) of the ranking of the unseen movies provided by the algorithm, compared to the ground-truth ranking.\n",
    "* Plot the evolution of this coefficient with respect to the number of movies seen by the user, from 1 to 100.\n",
    "* Give the top-3 and bottom-3 genres, as predicted by the model, and compare to the ground-truth.\n",
    "* Do the same experiments with other features (e.g., actors, actors + genres, actors + director + genres)."
   ]
  },
  {
   "cell_type": "code",
   "execution_count": 356,
   "metadata": {},
   "outputs": [],
   "source": [
    "def q(theta, a):\n",
    "    prob = 1 / (1 + np.exp(-np.dot(theta, a)))\n",
    "    return np.random.binomial(1, prob)"
   ]
  },
  {
   "cell_type": "code",
   "execution_count": 357,
   "metadata": {},
   "outputs": [],
   "source": [
    "def get_liked_fraction():\n",
    "    return len(movies.dropna(subset=['like'])) / len(movies)"
   ]
  },
  {
   "cell_type": "code",
   "execution_count": 358,
   "metadata": {},
   "outputs": [],
   "source": [
    "def calculate_spearman(movie_data, user_preferences, prediction_model, correlation_results):\n",
    "    unseen_movies = movie_data[movie_data['like'].isna()]\n",
    "    actual_scores = np.dot(unseen_movies.iloc[:, :-1].values, user_preferences)\n",
    "    predicted_scores = prediction_model.predict_proba(unseen_movies.drop(columns=['like']).fillna(0))[:, 1]\n",
    "    correlation_results.append(spearmanr(actual_scores, predicted_scores)[0])\n"
   ]
  },
  {
   "cell_type": "code",
   "execution_count": 359,
   "metadata": {},
   "outputs": [],
   "source": [
    "def display_correlation_chart(correlations):\n",
    "    plt.plot(range(1, total_movies + 1), correlations)\n",
    "    plt.xlabel('Number of Rated Movies')\n",
    "    plt.ylabel('Spearman\\'s Correlation Coefficient')\n",
    "    plt.title('Evolution of Spearman\\'s Correlation for Genre Preferences')\n",
    "    plt.show()"
   ]
  },
  {
   "cell_type": "code",
   "execution_count": 360,
   "metadata": {},
   "outputs": [],
   "source": [
    "movie_genres = pd.DataFrame(mlb.fit_transform(catalogue['Genre']), columns=mlb.classes_)\n",
    "genre_preferences = {\n",
    "    genre: np.random.randint(-2, 3) for genre in movie_genres.columns\n",
    "}\n",
    "movie_genres = movie_genres.assign(like=None)\n",
    "\n",
    "preference_weights = np.array(list(genre_preferences.values()))\n",
    "like_probability = 0.35\n",
    "total_movies = 100\n",
    "\n",
    "selected_indices = np.random.choice(len(movie_genres), size=int(like_probability * len(movie_genres)), replace=False)\n"
   ]
  },
  {
   "cell_type": "code",
   "execution_count": null,
   "metadata": {},
   "outputs": [],
   "source": [
    "for idx in selected_indices:\n",
    "    genre_features = movie_genres.iloc[idx, :-1].values\n",
    "    movie_genres.loc[idx, 'like'] = q(preference_weights, genre_features)\n",
    "\n",
    "user_likes, spearman_values = [], []\n",
    "\n",
    "for _ in range(total_movies):\n",
    "    chosen_movie_id = select_bayes()\n",
    "    genre_features = movie_genres.iloc[chosen_movie_id, :-1].values\n",
    "    user_like = q(preference_weights, genre_features)\n",
    "    movie_genres.loc[chosen_movie_id, 'like'] = user_like\n",
    "    user_likes.append(user_like)\n",
    "    calculate_spearman(movie_genres, preference_weights, model, spearman_values)\n",
    "\n",
    "display_correlation_chart(spearman_values)"
   ]
  },
  {
   "cell_type": "code",
   "execution_count": null,
   "metadata": {},
   "outputs": [],
   "source": [
    "rated_genres = movie_genres.drop(columns=['like']).loc[movie_genres['like'].notna()]\n",
    "\n",
    "predicted_coefficients = pd.Series(model.coef_[0], index=rated_genres.columns)\n",
    "top_predicted_genres = predicted_coefficients.nlargest(3)\n",
    "bottom_predicted_genres = predicted_coefficients.nsmallest(3)\n",
    "true_coefficients = pd.Series(preference_weights, index=rated_genres.columns)\n",
    "top_true_genres = true_coefficients.nlargest(3)\n",
    "bottom_true_genres = true_coefficients.nsmallest(3)\n",
    "\n",
    "print(\"Top-3 Predicted Genres:\", \", \".join(f\"{genre}\" for genre in top_predicted_genres.index))\n",
    "print(\"Top-3 True Genres:\", \", \".join(f\"{genre}\" for genre in top_true_genres.index))\n",
    "print(\"Bottom-3 Predicted Genres:\", \", \".join(f\"{genre}\" for genre in bottom_predicted_genres.index))\n",
    "print(\"Bottom-3 True Genres:\", \", \".join(f\"{genre}\" for genre in bottom_true_genres.index))"
   ]
  }
 ],
 "metadata": {
  "kernelspec": {
   "display_name": "Python 3",
   "language": "python",
   "name": "python3"
  },
  "language_info": {
   "codemirror_mode": {
    "name": "ipython",
    "version": 3
   },
   "file_extension": ".py",
   "mimetype": "text/x-python",
   "name": "python",
   "nbconvert_exporter": "python",
   "pygments_lexer": "ipython3",
   "version": "3.11.0"
  }
 },
 "nbformat": 4,
 "nbformat_minor": 4
}
